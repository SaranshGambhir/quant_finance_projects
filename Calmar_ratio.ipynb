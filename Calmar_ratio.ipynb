{
 "cells": [
  {
   "cell_type": "code",
   "execution_count": 4,
   "id": "504ab636",
   "metadata": {},
   "outputs": [],
   "source": [
    "import pandas as pd \n",
    "import numpy as np\n",
    "df=pd.read_csv(\"reliance_stock.csv\")\n",
    "df.rename(columns={\"Price\": \"Date\"} , inplace=True)\n",
    "df.drop(index=[0,1] , axis=0 , inplace=True)\n",
    "df.reset_index(inplace=True)\n",
    "\n",
    "df[\"Close\"]= pd.to_numeric(df[\"Close\"])\n",
    "df[\"Daily_return\"] = df[\"Close\"].pct_change()\n",
    "df[\"Cumulative_return\"] = (1+df[\"Daily_return\"]).cumprod()\n",
    "df[\"daily_log_retrn\"]= np.log(df[\"Close\"]/df[\"Close\"].shift(1))\n",
    "df.dropna(inplace=True)\n",
    "\n",
    "df[\"Rolling_max\"]= df[\"Cumulative_return\"].cummax()\n",
    "\n",
    "df[\"Drawdown\"]= (df[\"Cumulative_return\"]-df[\"Rolling_max\"])/df[\"Rolling_max\"]\n",
    "max_drawdown= df[\"Drawdown\"].min()\n",
    "cumulaive_return = (df[\"Close\"].iloc[-1]/df[\"Close\"].iloc[0])-1\n",
    "annualized_return = (1+cumulaive_return)**(252/len(df))-1\n",
    "calmar_ratio= annualized_return/abs(max_drawdown)\n"
   ]
  }
 ],
 "metadata": {
  "kernelspec": {
   "display_name": "Python 3",
   "language": "python",
   "name": "python3"
  },
  "language_info": {
   "codemirror_mode": {
    "name": "ipython",
    "version": 3
   },
   "file_extension": ".py",
   "mimetype": "text/x-python",
   "name": "python",
   "nbconvert_exporter": "python",
   "pygments_lexer": "ipython3",
   "version": "3.12.9"
  }
 },
 "nbformat": 4,
 "nbformat_minor": 5
}
