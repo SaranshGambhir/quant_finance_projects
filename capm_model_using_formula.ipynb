{
 "cells": [
  {
   "cell_type": "code",
   "execution_count": null,
   "id": "c12a94a5",
   "metadata": {},
   "outputs": [
    {
     "name": "stderr",
     "output_type": "stream",
     "text": [
      "C:\\Users\\saran\\AppData\\Local\\Temp\\ipykernel_1768\\3489598056.py:6: FutureWarning: YF.download() has changed argument auto_adjust default to True\n",
      "  data=yf.download(tickers , start=\"2023-01-01\" , end=\"2025-01-01\")[\"Close\"]\n",
      "[*********************100%***********************]  2 of 2 completed\n"
     ]
    },
    {
     "data": {
      "text/plain": [
       "np.float64(0.16254768803840225)"
      ]
     },
     "execution_count": 18,
     "metadata": {},
     "output_type": "execute_result"
    }
   ],
   "source": [
    "import pandas as pd \n",
    "import numpy as np \n",
    "import yfinance as yf \n",
    "\n",
    "tickers=(\"^NSEI\" , \"RELIANCE.NS\")\n",
    "data=yf.download(tickers , start=\"2023-01-01\" , end=\"2025-01-01\")[\"Close\"]\n",
    "df=pd.DataFrame(data)\n",
    "\n",
    "df[\"Daily_return_reliance\"] = df[\"RELIANCE.NS\"].pct_change()\n",
    "df[\"Daily_market_return\"] = df[\"^NSEI\"].pct_change()\n",
    "df.dropna(inplace=True)\n",
    "\n",
    "cov= np.cov(df[\"Daily_return_reliance\"] , df[\"Daily_market_return\"])[0][1]\n",
    "var_market= np.var(df[\"Daily_market_return\"])\n",
    "beta=cov/var_market\n",
    "risk_free_intrest = 0.055\n",
    "market_return = (df[\"Daily_market_return\"].mean())*252\n",
    "expected_return = risk_free_intrest + beta*(market_return-risk_free_intrest)\n"
   ]
  },
  {
   "cell_type": "code",
   "execution_count": null,
   "id": "9dc6adf3",
   "metadata": {},
   "outputs": [],
   "source": []
  },
  {
   "cell_type": "code",
   "execution_count": null,
   "id": "883665ca",
   "metadata": {},
   "outputs": [],
   "source": []
  },
  {
   "cell_type": "code",
   "execution_count": null,
   "id": "c86f7527",
   "metadata": {},
   "outputs": [],
   "source": []
  },
  {
   "cell_type": "code",
   "execution_count": null,
   "id": "da4db1c9",
   "metadata": {},
   "outputs": [],
   "source": []
  }
 ],
 "metadata": {
  "kernelspec": {
   "display_name": "Python 3",
   "language": "python",
   "name": "python3"
  },
  "language_info": {
   "codemirror_mode": {
    "name": "ipython",
    "version": 3
   },
   "file_extension": ".py",
   "mimetype": "text/x-python",
   "name": "python",
   "nbconvert_exporter": "python",
   "pygments_lexer": "ipython3",
   "version": "3.12.9"
  }
 },
 "nbformat": 4,
 "nbformat_minor": 5
}
