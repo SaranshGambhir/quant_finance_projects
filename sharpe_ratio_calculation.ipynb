{
 "cells": [
  {
   "cell_type": "code",
   "execution_count": null,
   "id": "dff7fc9e",
   "metadata": {},
   "outputs": [
    {
     "name": "stdout",
     "output_type": "stream",
     "text": [
      "-3.3366898909741245\n"
     ]
    }
   ],
   "source": [
    "import pandas as pd \n",
    "import numpy as np\n",
    "df=pd.read_csv(\"reliance_stock.csv\")\n",
    "df.rename(columns={\"Price\": \"Date\"} , inplace=True)\n",
    "df.drop(index=[0,1] , axis=0 , inplace=True)\n",
    "df.reset_index(inplace=True)\n",
    "\n",
    "df[\"Close\"]= pd.to_numeric(df[\"Close\"])\n",
    "df[\"Daily_return\"] = df[\"Close\"].pct_change()\n",
    "df[\"Cumulative_return\"] = (1+df[\"Daily_return\"].cumprod())\n",
    "df[\"daily_log_retrn\"]= np.log(df[\"Close\"]/df[\"Close\"].shift(1))\n",
    "avg_return = df[\"Daily_return\"].mean()\n",
    "risk_free_return = 0.055\n",
    "daily_risk_free_return = risk_free_return/12\n",
    "\n",
    "daily_violatility = df[\"Daily_return\"].std()\n",
    "annual_violatility = daily_violatility*np.sqrt(252)\n",
    "\n",
    "daily_sharpe_ratio = (avg_return-daily_risk_free_return)/daily_violatility\n",
    "annual_sharpe_ratio = daily_sharpe_ratio * np.sqrt(252)\n"
   ]
  },
  {
   "cell_type": "code",
   "execution_count": null,
   "id": "8b60794c",
   "metadata": {},
   "outputs": [],
   "source": []
  },
  {
   "cell_type": "code",
   "execution_count": null,
   "id": "efb3c8c4",
   "metadata": {},
   "outputs": [],
   "source": []
  },
  {
   "cell_type": "code",
   "execution_count": null,
   "id": "dea3985f",
   "metadata": {},
   "outputs": [],
   "source": []
  }
 ],
 "metadata": {
  "kernelspec": {
   "display_name": "Python 3",
   "language": "python",
   "name": "python3"
  },
  "language_info": {
   "codemirror_mode": {
    "name": "ipython",
    "version": 3
   },
   "file_extension": ".py",
   "mimetype": "text/x-python",
   "name": "python",
   "nbconvert_exporter": "python",
   "pygments_lexer": "ipython3",
   "version": "3.12.9"
  }
 },
 "nbformat": 4,
 "nbformat_minor": 5
}
