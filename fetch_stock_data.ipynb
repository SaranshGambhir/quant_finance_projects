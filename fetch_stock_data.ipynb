{
 "cells": [
  {
   "cell_type": "code",
   "execution_count": null,
   "id": "05c72e98",
   "metadata": {},
   "outputs": [
    {
     "name": "stderr",
     "output_type": "stream",
     "text": [
      "C:\\Users\\saran\\AppData\\Local\\Temp\\ipykernel_19120\\2613816954.py:4: FutureWarning: YF.download() has changed argument auto_adjust default to True\n",
      "  stock = yf.download(\"RELIANCE.NS\", start=\"2020-01-01\", end=\"2024-12-31\")\n"
     ]
    }
   ],
   "source": [
    "import yfinance as yf  \n",
    "import pandas as pd  \n",
    "\n",
    "stock = yf.download(\"RELIANCE.NS\", start=\"2020-01-01\", end=\"2024-12-31\")  \n",
    "stock.head()\n",
    "stock.to_csv(\"reliance_stock.csv\")"
   ]
  }
 ],
 "metadata": {
  "kernelspec": {
   "display_name": "Python 3",
   "language": "python",
   "name": "python3"
  },
  "language_info": {
   "name": "python",
   "version": "3.12.9"
  }
 },
 "nbformat": 4,
 "nbformat_minor": 5
}
