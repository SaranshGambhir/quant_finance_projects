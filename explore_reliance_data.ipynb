{
 "cells": [
  {
   "cell_type": "code",
   "execution_count": null,
   "id": "e2255be3",
   "metadata": {},
   "outputs": [],
   "source": [
    "import pandas as pd \n",
    "df = pd.read_csv(\"reliance_stock.csv\")\n",
    "df.head()\n",
    "df.rename(columns={\"Price\":\"Date\"} , inplace=True)\n",
    "df.head()\n",
    "df.drop(labels=[0,1] , axis=0 , inplace=True)\n",
    "# df.info()\n",
    "df.describe()\n",
    "\n",
    "import matplotlib.pyplot as plt \n",
    "plt.figure(figsize=(10,5))\n",
    "plt.plot(df['Date'], df['Close'], label=\"Volume\", color=\"orange\")\n",
    "plt.xlabel(\"Date\")\n",
    "plt.ylabel(\"Price\")\n",
    "plt.show()\n"
   ]
  }
 ],
 "metadata": {
  "kernelspec": {
   "display_name": "Python 3",
   "language": "python",
   "name": "python3"
  },
  "language_info": {
   "name": "python",
   "version": "3.12.9"
  }
 },
 "nbformat": 4,
 "nbformat_minor": 5
}
