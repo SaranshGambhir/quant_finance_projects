{
 "cells": [
  {
   "cell_type": "code",
   "execution_count": null,
   "id": "09b8f6d7",
   "metadata": {},
   "outputs": [
    {
     "name": "stdout",
     "output_type": "stream",
     "text": [
      "0.018728573350311885 0.29730688497574215\n"
     ]
    }
   ],
   "source": [
    "import pandas as pd \n",
    "import numpy as np\n",
    "df=pd.read_csv(\"reliance_stock.csv\")\n",
    "df.rename(columns={\"Price\": \"Date\"} , inplace=True)\n",
    "df.drop(index=[0,1] , axis=0 , inplace=True)\n",
    "df.reset_index(inplace=True)\n",
    "\n",
    "df[\"Close\"]= pd.to_numeric(df[\"Close\"])\n",
    "df[\"Daily_return\"] = df[\"Close\"].pct_change()\n",
    "df[\"Cumulative_return\"] = (1+df[\"Daily_return\"].cumprod())\n",
    "df[\"daily_log_retrn\"]= np.log(df[\"Close\"]/df[\"Close\"].shift(1))\n",
    "\n",
    "daily_violatility = df[\"Daily_return\"].std()\n",
    "annual_violatility = daily_violatility*np.sqrt(252)\n"
   ]
  }
 ],
 "metadata": {
  "kernelspec": {
   "display_name": "Python 3",
   "language": "python",
   "name": "python3"
  },
  "language_info": {
   "codemirror_mode": {
    "name": "ipython",
    "version": 3
   },
   "file_extension": ".py",
   "mimetype": "text/x-python",
   "name": "python",
   "nbconvert_exporter": "python",
   "pygments_lexer": "ipython3",
   "version": "3.12.9"
  }
 },
 "nbformat": 4,
 "nbformat_minor": 5
}
