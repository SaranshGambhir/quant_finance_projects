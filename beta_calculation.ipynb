{
 "cells": [
  {
   "cell_type": "code",
   "execution_count": null,
   "id": "c12a94a5",
   "metadata": {},
   "outputs": [
    {
     "name": "stderr",
     "output_type": "stream",
     "text": [
      "C:\\Users\\saran\\AppData\\Local\\Temp\\ipykernel_1768\\2371911530.py:6: FutureWarning: YF.download() has changed argument auto_adjust default to True\n",
      "  data=yf.download(tickers , start=\"2023-01-01\" , end=\"2025-01-01\")[\"Close\"]\n",
      "[*********************100%***********************]  2 of 2 completed"
     ]
    },
    {
     "name": "stdout",
     "output_type": "stream",
     "text": [
      "1.235050457893946\n"
     ]
    },
    {
     "name": "stderr",
     "output_type": "stream",
     "text": [
      "\n"
     ]
    }
   ],
   "source": [
    "import pandas as pd \n",
    "import numpy as np \n",
    "import yfinance as yf \n",
    "\n",
    "tickers=(\"^NSEI\" , \"RELIANCE.NS\")\n",
    "data=yf.download(tickers , start=\"2023-01-01\" , end=\"2025-01-01\")[\"Close\"]\n",
    "df=pd.DataFrame(data)\n",
    "\n",
    "df[\"Daily_return_reliance\"] = df[\"RELIANCE.NS\"].pct_change()\n",
    "df[\"Daily_market_return\"] = df[\"^NSEI\"].pct_change()\n",
    "df.dropna(inplace=True)\n",
    "\n",
    "cov= np.cov(df[\"Daily_return_reliance\"] , df[\"Daily_market_return\"])[0][1]\n",
    "var_market= np.var(df[\"Daily_market_return\"])\n",
    "beta=cov/var_market\n"
   ]
  },
  {
   "cell_type": "code",
   "execution_count": null,
   "id": "9dc6adf3",
   "metadata": {},
   "outputs": [],
   "source": []
  },
  {
   "cell_type": "code",
   "execution_count": null,
   "id": "883665ca",
   "metadata": {},
   "outputs": [],
   "source": []
  },
  {
   "cell_type": "code",
   "execution_count": null,
   "id": "c86f7527",
   "metadata": {},
   "outputs": [],
   "source": []
  },
  {
   "cell_type": "code",
   "execution_count": null,
   "id": "da4db1c9",
   "metadata": {},
   "outputs": [],
   "source": []
  }
 ],
 "metadata": {
  "kernelspec": {
   "display_name": "Python 3",
   "language": "python",
   "name": "python3"
  },
  "language_info": {
   "codemirror_mode": {
    "name": "ipython",
    "version": 3
   },
   "file_extension": ".py",
   "mimetype": "text/x-python",
   "name": "python",
   "nbconvert_exporter": "python",
   "pygments_lexer": "ipython3",
   "version": "3.12.9"
  }
 },
 "nbformat": 4,
 "nbformat_minor": 5
}
